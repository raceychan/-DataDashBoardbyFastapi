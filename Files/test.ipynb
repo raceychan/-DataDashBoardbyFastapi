{
 "metadata": {
  "language_info": {
   "codemirror_mode": {
    "name": "ipython",
    "version": 3
   },
   "file_extension": ".py",
   "mimetype": "text/x-python",
   "name": "python",
   "nbconvert_exporter": "python",
   "pygments_lexer": "ipython3",
   "version": "3.8.3-final"
  },
  "orig_nbformat": 2,
  "kernelspec": {
   "name": "python3",
   "display_name": "Python 3",
   "language": "python"
  }
 },
 "nbformat": 4,
 "nbformat_minor": 2,
 "cells": [
  {
   "cell_type": "code",
   "execution_count": 2,
   "metadata": {},
   "outputs": [],
   "source": [
    "import pandas as pd\n",
    "import numpy as np\n",
    "import json\n",
    "test=pd.read_csv('category__.csv')"
   ]
  },
  {
   "cell_type": "code",
   "execution_count": 11,
   "metadata": {},
   "outputs": [
    {
     "output_type": "execute_result",
     "data": {
      "text/plain": [
       "'[\"Back Massagers\",\"In-Ear Headphones\",\"Saws\",\"Power Drill Drivers\",\"Centrifugal Juicers\",\"Foot Massagers\",\"Air Fryers\",\"Mattress Toppers\",\"Jump Starters\",\"Air Purifier\",\"Mattresses\",\"Masticating Juicers\",\"Sports Scooter\",\"Heating Pads\",\"Computer workstations\",\"Hair Clippers & Accessories\",\"Exercise Bikes\",\"Block Knife Sets\",\"Humidifiers\",\"Over-Ear Headphones\",\"Stick Vacuums & Electric Brooms\",\"Treadmills\",\"Elliptical Trainers\",\"Ice Makers\",\"Ride-On Toys & Accessories\",\"Rowers\",\"Dumbbells\",\"Outdoor Generators\",\"Adult Electric Bicycles\",\"Walk-Behind Lawn Mowers\",\"Compact Refrigerators\",\"Dehumidifiers\",\"Smartwatches\",\"Robotic Vacuums\",\"Contact Grills\"]'"
      ]
     },
     "metadata": {},
     "execution_count": 11
    }
   ],
   "source": [
    "test['category_name'].to_json(orient='records')"
   ]
  },
  {
   "cell_type": "code",
   "execution_count": null,
   "metadata": {},
   "outputs": [],
   "source": []
  }
 ]
}